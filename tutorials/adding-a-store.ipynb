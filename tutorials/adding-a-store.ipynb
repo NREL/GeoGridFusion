{
 "cells": [
  {
   "cell_type": "code",
   "execution_count": 1,
   "metadata": {},
   "outputs": [],
   "source": [
    "import geogridstore\n",
    "import geogridstore.templates"
   ]
  },
  {
   "cell_type": "markdown",
   "metadata": {},
   "source": [
    "### Starting a New Store\n",
    "\n",
    "We need to define a place for our living datastore to grow, along with some other useful information. This includes \n",
    "- name \n",
    "- file path\n",
    "- periods (length)\n",
    "- grid resolution (km)\n",
    "- template\n",
    "\n",
    "**Name**: a name that can be referenced throgh the top level `geogridfusion` namespace.\n",
    "**File Path**: a location where your data will sit.  \n",
    "**Periods**: number of entries along time axis in your data, all data-points should have uniform length in periods.  \n",
    "**Grid Resolition**: resolution of grid in km.  \n",
    "**template**: a template of how your data will be stored. this is the most complicated part. We seek to provide templates for common data sources (PVGIS, NSRDB) but you may have to produce your own. Documenation coming on this soon.  "
   ]
  },
  {
   "cell_type": "code",
   "execution_count": 2,
   "metadata": {},
   "outputs": [],
   "source": [
    "geogridstore.add_user_path(\n",
    "    name=\"pvgis_tmy\", \n",
    "    path=\"c:/Users/tford/dev/GeoGridStore/saves/dir-a\", \n",
    "    periods=\"8760\", # tmy is hourly data and contains 8760 per year for a single year\n",
    "    grid_resolution=\"4\", # dataset based resolution, PVGIS is 2km?\n",
    "    template_ds=geogridstore.templates.PVGIS_TMY_TEMPLATE\n",
    ")"
   ]
  },
  {
   "cell_type": "code",
   "execution_count": 3,
   "metadata": {},
   "outputs": [
    {
     "data": {
      "text/html": [
       "\n",
       "    <style>\n",
       "        :root {\n",
       "            --bg-color-light: #ffffff;\n",
       "            --bg-color-dark: #1e1e1e;\n",
       "            --text-color-light: #000000;\n",
       "            --text-color-dark: #ffffff;\n",
       "            --row-color-light: #f9f9f9;\n",
       "            --row-color-dark: #333333;\n",
       "            --header-bg-light: #4CAF50;\n",
       "            --header-bg-dark: #3e8e41;\n",
       "        }\n",
       "        \n",
       "        @media (prefers-color-scheme: dark) {\n",
       "            :root {\n",
       "                --bg-color: var(--bg-color-dark);\n",
       "                --text-color: var(--text-color-dark);\n",
       "                --row-color: var(--row-color-dark);\n",
       "                --header-bg: var(--header-bg-dark);\n",
       "            }\n",
       "        }\n",
       "\n",
       "        @media (prefers-color-scheme: light) {\n",
       "            :root {\n",
       "                --bg-color: var(--bg-color-light);\n",
       "                --text-color: var(--text-color-light);\n",
       "                --row-color: var(--row-color-light);\n",
       "                --header-bg: var(--header-bg-light);\n",
       "            }\n",
       "        }\n",
       "\n",
       "        table {\n",
       "            border-collapse: collapse;\n",
       "            width: 80%; /* Reasonable width for the table */\n",
       "            margin: 20px auto; /* Center the table horizontally */\n",
       "            text-align: center; /* Center-align the text */\n",
       "            font-family: Arial, sans-serif;\n",
       "            background-color: var(--bg-color);\n",
       "            color: var(--text-color);\n",
       "            border: 1px solid #ddd;\n",
       "            box-shadow: 0 4px 8px rgba(0, 0, 0, 0.1); /* Add a slight shadow for better focus */\n",
       "        }\n",
       "\n",
       "        th, td {\n",
       "            padding: 10px;\n",
       "            border: 1px solid #ddd;\n",
       "        }\n",
       "\n",
       "        thead tr {\n",
       "            background-color: var(--header-bg);\n",
       "            color: var(--text-color);\n",
       "        }\n",
       "\n",
       "        tbody tr:nth-child(even) {\n",
       "            background-color: var(--row-color);\n",
       "        }\n",
       "    </style>\n",
       "    <table>\n",
       "        <thead>\n",
       "            <tr>\n",
       "                <th>Name</th>\n",
       "                <th>Path</th>\n",
       "            </tr>\n",
       "        </thead>\n",
       "        <tbody>\n",
       "    \n",
       "        <tr>\n",
       "            <td>pvgis_tmy</td>\n",
       "            <td>{'grid_resolution': '4', 'path': 'c:/Users/tford/dev/GeoGridStore/saves/dir-a', 'periods': '8760'}</td>\n",
       "        </tr>\n",
       "        \n",
       "        </tbody>\n",
       "    </table>\n",
       "    "
      ],
      "text/plain": [
       "<IPython.core.display.HTML object>"
      ]
     },
     "metadata": {},
     "output_type": "display_data"
    }
   ],
   "source": [
    "geogridstore.display_paths()"
   ]
  },
  {
   "cell_type": "code",
   "execution_count": null,
   "metadata": {},
   "outputs": [],
   "source": []
  }
 ],
 "metadata": {
  "kernelspec": {
   "display_name": "deg",
   "language": "python",
   "name": "python3"
  },
  "language_info": {
   "codemirror_mode": {
    "name": "ipython",
    "version": 3
   },
   "file_extension": ".py",
   "mimetype": "text/x-python",
   "name": "python",
   "nbconvert_exporter": "python",
   "pygments_lexer": "ipython3",
   "version": "3.9.19"
  }
 },
 "nbformat": 4,
 "nbformat_minor": 2
}
