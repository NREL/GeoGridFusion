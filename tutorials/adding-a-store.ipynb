{
 "cells": [
  {
   "cell_type": "code",
   "execution_count": null,
   "metadata": {},
   "outputs": [],
   "source": [
    "import geogridstore\n",
    "import os"
   ]
  },
  {
   "cell_type": "code",
   "execution_count": 3,
   "metadata": {},
   "outputs": [],
   "source": [
    "geogridstore.add_user_path(\"test-a\", \"c:/Users/tford/dev/GeoGridStore/tutorials/dir-a\", \"1hr\")\n",
    "geogridstore.add_user_path(\"test-b\", \"c:/Users/tford/dev/GeoGridStore/tutorials/dir-b\", \"1hr\")"
   ]
  },
  {
   "cell_type": "code",
   "execution_count": null,
   "metadata": {},
   "outputs": [],
   "source": [
    "import yaml\n",
    "with open(geogridstore.USER_PATHS, 'r') as f:\n",
    "    data = yaml.safe_load(f)\n",
    "\n",
    "print(data)\n",
    "\n",
    "html = \"\""
   ]
  },
  {
   "cell_type": "code",
   "execution_count": 4,
   "metadata": {},
   "outputs": [
    {
     "data": {
      "text/html": [
       "\n",
       "    <style>\n",
       "        :root {\n",
       "            --bg-color-light: #ffffff;\n",
       "            --bg-color-dark: #1e1e1e;\n",
       "            --text-color-light: #000000;\n",
       "            --text-color-dark: #ffffff;\n",
       "            --row-color-light: #f9f9f9;\n",
       "            --row-color-dark: #333333;\n",
       "            --header-bg-light: #4CAF50;\n",
       "            --header-bg-dark: #3e8e41;\n",
       "        }\n",
       "        \n",
       "        @media (prefers-color-scheme: dark) {\n",
       "            :root {\n",
       "                --bg-color: var(--bg-color-dark);\n",
       "                --text-color: var(--text-color-dark);\n",
       "                --row-color: var(--row-color-dark);\n",
       "                --header-bg: var(--header-bg-dark);\n",
       "            }\n",
       "        }\n",
       "\n",
       "        @media (prefers-color-scheme: light) {\n",
       "            :root {\n",
       "                --bg-color: var(--bg-color-light);\n",
       "                --text-color: var(--text-color-light);\n",
       "                --row-color: var(--row-color-light);\n",
       "                --header-bg: var(--header-bg-light);\n",
       "            }\n",
       "        }\n",
       "\n",
       "        table {\n",
       "            border-collapse: collapse;\n",
       "            width: 80%; /* Reasonable width for the table */\n",
       "            margin: 20px auto; /* Center the table horizontally */\n",
       "            text-align: center; /* Center-align the text */\n",
       "            font-family: Arial, sans-serif;\n",
       "            background-color: var(--bg-color);\n",
       "            color: var(--text-color);\n",
       "            border: 1px solid #ddd;\n",
       "            box-shadow: 0 4px 8px rgba(0, 0, 0, 0.1); /* Add a slight shadow for better focus */\n",
       "        }\n",
       "\n",
       "        th, td {\n",
       "            padding: 10px;\n",
       "            border: 1px solid #ddd;\n",
       "        }\n",
       "\n",
       "        thead tr {\n",
       "            background-color: var(--header-bg);\n",
       "            color: var(--text-color);\n",
       "        }\n",
       "\n",
       "        tbody tr:nth-child(even) {\n",
       "            background-color: var(--row-color);\n",
       "        }\n",
       "    </style>\n",
       "    <table>\n",
       "        <thead>\n",
       "            <tr>\n",
       "                <th>Name</th>\n",
       "                <th>Path</th>\n",
       "            </tr>\n",
       "        </thead>\n",
       "        <tbody>\n",
       "    \n",
       "        <tr>\n",
       "            <td>test-a</td>\n",
       "            <td>{'freq': '1hr', 'path': 'c:/Users/tford/dev/GeoGridStore/tutorials/dir-a'}</td>\n",
       "        </tr>\n",
       "        \n",
       "        <tr>\n",
       "            <td>test-b</td>\n",
       "            <td>{'freq': '1hr', 'path': 'c:/Users/tford/dev/GeoGridStore/tutorials/dir-b'}</td>\n",
       "        </tr>\n",
       "        \n",
       "        </tbody>\n",
       "    </table>\n",
       "    "
      ],
      "text/plain": [
       "<IPython.core.display.HTML object>"
      ]
     },
     "metadata": {},
     "output_type": "display_data"
    }
   ],
   "source": [
    "geogridstore.display_paths()"
   ]
  },
  {
   "cell_type": "code",
   "execution_count": null,
   "metadata": {},
   "outputs": [],
   "source": [
    "geogridstore.display_paths()"
   ]
  },
  {
   "cell_type": "code",
   "execution_count": null,
   "metadata": {},
   "outputs": [],
   "source": []
  }
 ],
 "metadata": {
  "kernelspec": {
   "display_name": "deg",
   "language": "python",
   "name": "python3"
  },
  "language_info": {
   "codemirror_mode": {
    "name": "ipython",
    "version": 3
   },
   "file_extension": ".py",
   "mimetype": "text/x-python",
   "name": "python",
   "nbconvert_exporter": "python",
   "pygments_lexer": "ipython3",
   "version": "3.9.19"
  }
 },
 "nbformat": 4,
 "nbformat_minor": 2
}
